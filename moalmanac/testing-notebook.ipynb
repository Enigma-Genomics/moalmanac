{
 "cells": [
  {
   "cell_type": "markdown",
   "metadata": {},
   "source": [
    "# Testing notebook\n",
    "This notebook should, hopefully, speed up testing. It is broken up by section for independent usage. "
   ]
  },
  {
   "cell_type": "markdown",
   "metadata": {},
   "source": [
    "## Generate report"
   ]
  },
  {
   "cell_type": "code",
   "execution_count": 1,
   "metadata": {},
   "outputs": [],
   "source": [
    "import pandas as pd\n",
    "\n",
    "import datasources\n",
    "import investigator\n",
    "import reporter\n",
    "\n",
    "patient = {}\n",
    "patient_id = 'patient_id'\n",
    "patient[patient_id] = 'example'\n",
    "patient['oncotree_code'] = 'SKCM'\n",
    "patient['oncotree_term'] = 'Cutaneous Melanoma'\n",
    "patient['stage'] = 'Metastatic'\n",
    "patient['description'] = ''\n",
    "patient['date'] = ''\n",
    "patient['purity'] = 100\n",
    "patient['ploidy'] = 2.0\n",
    "patient['microsatellite_status'] = 'MSI'\n",
    "\n",
    "actionable = pd.read_csv('output/example.actionable.txt', sep='\\t')\n",
    "matchmaking = pd.read_csv('output/example.matchmaker.txt', sep='\\t')\n",
    "somatic = pd.read_csv('output/example.somatic.scored.txt', sep='\\t')\n",
    "dbs_preclinical = datasources.Preclinical.import_dbs()\n",
    "\n",
    "efficacy_dictionary = investigator.SensitivityDictionary.create(dbs_preclinical, actionable, patient[patient_id])\n",
    "efficacy_summary = investigator.SummaryDataFrame.create(efficacy_dictionary, actionable, patient[patient_id])\n",
    "\n",
    "report_dictionary = reporter.Reporter.generate_dictionary(somatic, patient)\n",
    "version_dictionary = reporter.Reporter.generate_version_dictionary()\n",
    "\n",
    "matchmaker_on_boolean=True\n",
    "\n",
    "dictionary = dbs_preclinical['dictionary']\n",
    "\n",
    "evidence_map = {\n",
    "    'FDA-Approved': 5.0, 'Guideline': 4.0, 'Clinical trial': 3.0,\n",
    "    'Clinical evidence': 2.0, 'Preclinical': 1.0, 'Inferential': 0.0}\n",
    "\n",
    "bin_map = {\n",
    "        'Biologically Relevant': 1,\n",
    "        'Investigate Actionability - Low': 2,\n",
    "        'Investigate Actionability - High': 3,\n",
    "        'Putatively Actionable': 4}\n",
    "\n",
    "for column in ['sensitive', 'resistance', 'prognostic']:\n",
    "    actionable[f'{column}_predictive_implication_map'] = actionable[f'{column}_predictive_implication'].replace(evidence_map)\n",
    "    actionable[f'{column}_score_bin_map'] = actionable[f'{column}_score_bin'].replace(bin_map)\n",
    "actionable['score_bin_map'] = actionable['score_bin'].replace(bin_map)"
   ]
  },
  {
   "cell_type": "code",
   "execution_count": 4,
   "metadata": {},
   "outputs": [],
   "source": [
    "reporter.Reporter.generate_report(actionable, report_dictionary, version_dictionary,\n",
    "                                  efficacy_dictionary, efficacy_summary,\n",
    "                                  matchmaker_on_boolean, matchmaking, dictionary)\n",
    "\n",
    "!mv build/index.html output/example.report.html"
   ]
  },
  {
   "cell_type": "code",
   "execution_count": null,
   "metadata": {},
   "outputs": [],
   "source": []
  }
 ],
 "metadata": {
  "kernelspec": {
   "display_name": "moalmanac",
   "language": "python",
   "name": "moalmanac"
  },
  "language_info": {
   "codemirror_mode": {
    "name": "ipython",
    "version": 3
   },
   "file_extension": ".py",
   "mimetype": "text/x-python",
   "name": "python",
   "nbconvert_exporter": "python",
   "pygments_lexer": "ipython3",
   "version": "3.6.10"
  }
 },
 "nbformat": 4,
 "nbformat_minor": 4
}
